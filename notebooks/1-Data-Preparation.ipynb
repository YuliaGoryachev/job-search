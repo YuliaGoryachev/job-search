{
 "cells": [
  {
   "cell_type": "markdown",
   "id": "d65c8e39",
   "metadata": {},
   "source": [
    "# Introduction"
   ]
  },
  {
   "cell_type": "markdown",
   "id": "04753b43",
   "metadata": {},
   "source": [
    "The purpose of this notebook is to combine all the douments and prepare for annotation"
   ]
  },
  {
   "cell_type": "code",
   "execution_count": 1,
   "id": "f2c6ffdb-70b7-4213-94d2-5001f70a19f7",
   "metadata": {},
   "outputs": [],
   "source": [
    "import pandas as pd\n",
    "import numpy as np\n",
    "import os\n",
    "import sys\n",
    "import json\n",
    "from tqdm import tqdm\n",
    "import datetime"
   ]
  },
  {
   "cell_type": "code",
   "execution_count": 2,
   "id": "25a5657e-7809-4a9d-b485-aca5ff690eca",
   "metadata": {},
   "outputs": [],
   "source": [
    "pd.set_option('display.max_rows', 1000)\n",
    "pd.set_option('display.max_columns', 1000)\n",
    "pd.set_option('display.max_colwidth', None)"
   ]
  },
  {
   "cell_type": "code",
   "execution_count": 3,
   "id": "4a292999-31f9-44b0-9c89-70fcc777b2cf",
   "metadata": {},
   "outputs": [],
   "source": [
    "#so I can import the libraries\n",
    "sys.path.append('/Users/yuliagoryachev/job-search-enhanced/app/')\n",
    "from utils.data_loader import Loader\n",
    "from utils.openai_parsings import get_salary_and_skills"
   ]
  },
  {
   "cell_type": "code",
   "execution_count": 4,
   "id": "4d34dcf9-268f-442b-a13e-4ab1753e9b70",
   "metadata": {},
   "outputs": [],
   "source": [
    "data_path ='/Users/yuliagoryachev/learning/langchain_course/llms/data/'\n",
    "loader = Loader(data_path)"
   ]
  },
  {
   "cell_type": "code",
   "execution_count": 5,
   "id": "5a9ab42c-0e19-4b52-83ef-a8d10ac3cc4f",
   "metadata": {},
   "outputs": [],
   "source": [
    "csv_data = loader.load_csv()"
   ]
  },
  {
   "cell_type": "markdown",
   "id": "4cc81187-f861-4783-8fc1-355dc373177e",
   "metadata": {},
   "source": [
    "## Add features, that might help the annotator"
   ]
  },
  {
   "cell_type": "code",
   "execution_count": 1,
   "id": "f9a21453",
   "metadata": {},
   "outputs": [],
   "source": [
    "def add_skill_and_salary(csv_data):\n",
    "    salary = []\n",
    "    skills = []\n",
    "    for i in tqdm(csv_data.Description):\n",
    "        try:\n",
    "            keep = json.loads(get_salary_and_skills(i))\n",
    "            salary.append(keep['salary'])\n",
    "            skills.append(keep['skills'])\n",
    "        except Exception as e:\n",
    "            print(e)\n",
    "            salary.append('none')\n",
    "            skills.append([])\n",
    "    return salary, skills"
   ]
  },
  {
   "cell_type": "code",
   "execution_count": 14,
   "id": "3443e340-8a41-454d-a193-ba98527741e1",
   "metadata": {},
   "outputs": [
    {
     "name": "stderr",
     "output_type": "stream",
     "text": [
      "100%|███████████████████████████████████████████████████████████████████████████████████████████████████████████████████████████████████████| 2/2 [00:09<00:00,  4.87s/it]\n"
     ]
    }
   ],
   "source": [
    "salary, skills = add_skill_and_salary(csv_data)\n",
    "csv_data['extracted_skills'] = skills\n",
    "csv_data['extracted_salary'] = salary"
   ]
  },
  {
   "cell_type": "markdown",
   "id": "0d81acb9-5aa1-468e-9fe7-00fb63eaa1d0",
   "metadata": {},
   "source": [
    "## Save "
   ]
  },
  {
   "cell_type": "code",
   "execution_count": 26,
   "id": "34a692e4-0aee-4af4-8a2e-9d1cc52a77e7",
   "metadata": {},
   "outputs": [
    {
     "name": "stdout",
     "output_type": "stream",
     "text": [
      "2024-02-05 16:25:27\n"
     ]
    }
   ],
   "source": [
    "# Get the current date and time\n",
    "current_datetime = datetime.datetime.now()\n",
    "formatted_datetime = current_datetime.strftime(\"%Y-%m-%d %H:%M:%S\")\n",
    "print(formatted_datetime)"
   ]
  },
  {
   "cell_type": "code",
   "execution_count": 27,
   "id": "4012e748-ae01-4880-8880-9f763c63d13b",
   "metadata": {},
   "outputs": [],
   "source": [
    "csv_data.to_csv(f'/Users/yuliagoryachev/learning/langchain_course/llms/data/all_linkedin_roles_{formatted_datetime}.csv')"
   ]
  }
 ],
 "metadata": {
  "kernelspec": {
   "display_name": "Python 3 (ipykernel)",
   "language": "python",
   "name": "python3"
  },
  "language_info": {
   "codemirror_mode": {
    "name": "ipython",
    "version": 3
   },
   "file_extension": ".py",
   "mimetype": "text/x-python",
   "name": "python",
   "nbconvert_exporter": "python",
   "pygments_lexer": "ipython3",
   "version": "3.10.8"
  }
 },
 "nbformat": 4,
 "nbformat_minor": 5
}
